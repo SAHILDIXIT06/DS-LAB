{
 "cells": [
  {
   "cell_type": "code",
   "execution_count": 2,
   "id": "1fe78b6c-7c64-48b9-8e8c-2d3399c7382e",
   "metadata": {},
   "outputs": [
    {
     "name": "stdout",
     "output_type": "stream",
     "text": [
      "Confusion Matrix:\n",
      " [[14  0  0]\n",
      " [ 0 16  2]\n",
      " [ 0  1 12]]\n",
      "\n",
      "Class 0: TP=14, FP=0, TN=31, FN=0\n",
      "\n",
      "Class 1: TP=16, FP=1, TN=26, FN=2\n",
      "\n",
      "Class 2: TP=12, FP=2, TN=30, FN=1\n",
      "\n",
      "Accuracy: 0.93\n",
      "Error Rate: 0.07\n",
      "Precision: 0.93\n",
      "Recall: 0.94\n"
     ]
    }
   ],
   "source": [
    "from sklearn.datasets import load_iris\n",
    "from sklearn.model_selection import train_test_split\n",
    "from sklearn.naive_bayes import GaussianNB\n",
    "from sklearn.metrics import confusion_matrix, accuracy_score, precision_score, recall_score\n",
    "\n",
    "# Load data\n",
    "X, y = load_iris(return_X_y=True)\n",
    "X_train, X_test, y_train, y_test = train_test_split(X, y, test_size=0.3, random_state=1)\n",
    "\n",
    "# Train and predict\n",
    "model = GaussianNB()\n",
    "y_pred = model.fit(X_train, y_train).predict(X_test)\n",
    "\n",
    "# Confusion matrix\n",
    "cm = confusion_matrix(y_test, y_pred)\n",
    "print(\"Confusion Matrix:\\n\", cm)\n",
    "\n",
    "# TP, FP, TN, FN for all 3 classes\n",
    "for i in range(3):\n",
    "    TP = cm[i][i]\n",
    "    FN = cm[i].sum() - TP\n",
    "    FP = cm[:, i].sum() - TP\n",
    "    TN = cm.sum() - (TP + FP + FN)\n",
    "    print(f\"\\nClass {i}: TP={TP}, FP={FP}, TN={TN}, FN={FN}\")\n",
    "\n",
    "# Metrics\n",
    "print(\"\\nAccuracy:\", round(accuracy_score(y_test, y_pred), 2))\n",
    "print(\"Error Rate:\", round(1 - accuracy_score(y_test, y_pred), 2))\n",
    "print(\"Precision:\", round(precision_score(y_test, y_pred, average='macro'), 2))\n",
    "print(\"Recall:\", round(recall_score(y_test, y_pred, average='macro'), 2))\n"
   ]
  },
  {
   "cell_type": "code",
   "execution_count": null,
   "id": "63ca5c97-2466-4a2f-bd6c-c3d66eefee54",
   "metadata": {},
   "outputs": [],
   "source": []
  }
 ],
 "metadata": {
  "kernelspec": {
   "display_name": "Python 3 (ipykernel)",
   "language": "python",
   "name": "python3"
  },
  "language_info": {
   "codemirror_mode": {
    "name": "ipython",
    "version": 3
   },
   "file_extension": ".py",
   "mimetype": "text/x-python",
   "name": "python",
   "nbconvert_exporter": "python",
   "pygments_lexer": "ipython3",
   "version": "3.13.0"
  }
 },
 "nbformat": 4,
 "nbformat_minor": 5
}
